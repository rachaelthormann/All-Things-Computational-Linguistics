{
 "cells": [
  {
   "cell_type": "markdown",
   "metadata": {},
   "source": [
    "# Stanford Tree Parser\n",
    "Inspired by "
   ]
  },
  {
   "cell_type": "code",
   "execution_count": 15,
   "metadata": {},
   "outputs": [],
   "source": [
    "from nltk.parse import stanford\n",
    "import os"
   ]
  },
  {
   "cell_type": "code",
   "execution_count": 16,
   "metadata": {},
   "outputs": [],
   "source": [
    "def parse(sentence):\n",
    "    \"\"\"\n",
    "    Use the stanford parser to obtain the parse trees.\n",
    "    \"\"\"\n",
    "    \n",
    "    os.environ['STANFORD_PARSER'] = '/Users/rachaelthormann/Desktop/Fall2019/NLP/jars/stanford-parser.jar'\n",
    "    os.environ['STANFORD_MODELS'] = '/Users/rachaelthormann/Desktop/Fall2019/NLP/jars/stanford-parser-3.9.1-models.jar'\n",
    "    parser = stanford.StanfordParser(model_path=\"/Users/rachaelthormann/Desktop/Fall2019/NLP/jars/englishPCFG.ser.gz\")\n",
    "    \n",
    "    # parse the sentences\n",
    "    sentences = parser.raw_parse_sents((sentence,))\n",
    "    \n",
    "    print(sentences)\n",
    "\n",
    "    # draw parse tree\n",
    "    for line in sentences:\n",
    "        for sentence in line:\n",
    "            sentence.draw()\n",
    "    \n",
    "    return"
   ]
  },
  {
   "cell_type": "code",
   "execution_count": 17,
   "metadata": {},
   "outputs": [
    {
     "name": "stderr",
     "output_type": "stream",
     "text": [
      "/anaconda3/lib/python3.6/site-packages/ipykernel_launcher.py:8: DeprecationWarning: The StanfordParser will be deprecated\n",
      "Please use \u001b[91mnltk.parse.corenlp.StanforCoreNLPParser\u001b[0m instead.\n",
      "  \n"
     ]
    },
    {
     "name": "stdout",
     "output_type": "stream",
     "text": [
      "<list_iterator object at 0x1a1cc9e780>\n"
     ]
    }
   ],
   "source": [
    "parse(\"the best school in the world\")"
   ]
  },
  {
   "cell_type": "code",
   "execution_count": null,
   "metadata": {},
   "outputs": [],
   "source": []
  }
 ],
 "metadata": {
  "kernelspec": {
   "display_name": "Python 3",
   "language": "python",
   "name": "python3"
  },
  "language_info": {
   "codemirror_mode": {
    "name": "ipython",
    "version": 3
   },
   "file_extension": ".py",
   "mimetype": "text/x-python",
   "name": "python",
   "nbconvert_exporter": "python",
   "pygments_lexer": "ipython3",
   "version": "3.6.6"
  }
 },
 "nbformat": 4,
 "nbformat_minor": 2
}
