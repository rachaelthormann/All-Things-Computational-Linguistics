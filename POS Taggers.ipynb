{
 "cells": [
  {
   "cell_type": "markdown",
   "metadata": {},
   "source": [
    "This notebook compares the performance of multiple POS taggers, specifically in the case of ambiguous sentences. Consider the following 5 sentences."
   ]
  },
  {
   "cell_type": "code",
   "execution_count": 42,
   "metadata": {},
   "outputs": [],
   "source": [
    "sent1 = \"We saw her duck.\"\n",
    "\n",
    "sent2 = \"I saw her duck swim.\"\n",
    "\n",
    "sent3 = \"I saw her duck swim quickly.\"\n",
    "\n",
    "#sent4 = \"Change noun to verb.\"\n",
    "\n",
    "#sent5 = \"Change the noun to a verb.\"\n",
    "\n",
    "sentences = [sent1, sent2, sent3]"
   ]
  },
  {
   "cell_type": "markdown",
   "metadata": {},
   "source": [
    "# NLTK POS Tagger"
   ]
  },
  {
   "cell_type": "code",
   "execution_count": 43,
   "metadata": {},
   "outputs": [],
   "source": [
    "import nltk"
   ]
  },
  {
   "cell_type": "code",
   "execution_count": 44,
   "metadata": {},
   "outputs": [
    {
     "name": "stdout",
     "output_type": "stream",
     "text": [
      "[('We', 'PRP'), ('saw', 'VBD'), ('her', 'PRP'), ('duck', 'NN'), ('.', '.')]\n",
      "\n",
      "[('I', 'PRP'), ('saw', 'VBD'), ('her', 'PRP'), ('duck', 'NN'), ('swim', 'NN'), ('.', '.')]\n",
      "\n",
      "[('I', 'PRP'), ('saw', 'VBD'), ('her', 'PRP'), ('duck', 'NN'), ('swim', 'JJ'), ('quickly', 'RB'), ('.', '.')]\n",
      "\n"
     ]
    }
   ],
   "source": [
    "for sentence in sentences:\n",
    "    user_sentence = nltk.word_tokenize(sentence)\n",
    "    print(nltk.pos_tag(user_sentence))\n",
    "    print()"
   ]
  },
  {
   "cell_type": "markdown",
   "metadata": {},
   "source": [
    "# TextBlob POS Tagger"
   ]
  },
  {
   "cell_type": "code",
   "execution_count": 45,
   "metadata": {},
   "outputs": [],
   "source": [
    "from textblob import TextBlob"
   ]
  },
  {
   "cell_type": "code",
   "execution_count": 46,
   "metadata": {},
   "outputs": [
    {
     "name": "stdout",
     "output_type": "stream",
     "text": [
      "[('We', 'PRP'), ('saw', 'VBD'), ('her', 'PRP'), ('duck', 'NN')]\n",
      "\n",
      "[('I', 'PRP'), ('saw', 'VBD'), ('her', 'PRP'), ('duck', 'NN'), ('swim', 'NN')]\n",
      "\n",
      "[('I', 'PRP'), ('saw', 'VBD'), ('her', 'PRP'), ('duck', 'NN'), ('swim', 'JJ'), ('quickly', 'RB')]\n",
      "\n"
     ]
    }
   ],
   "source": [
    "for sentence in sentences:\n",
    "    blob = TextBlob(sentence)\n",
    "    print(blob.tags)\n",
    "    print()"
   ]
  },
  {
   "cell_type": "markdown",
   "metadata": {},
   "source": [
    "# Spacy POS Tagger"
   ]
  },
  {
   "cell_type": "code",
   "execution_count": 47,
   "metadata": {},
   "outputs": [],
   "source": [
    "import spacy \n",
    "\n",
    "nlp = spacy.load(\"en_core_web_sm\") "
   ]
  },
  {
   "cell_type": "code",
   "execution_count": 48,
   "metadata": {},
   "outputs": [
    {
     "name": "stdout",
     "output_type": "stream",
     "text": [
      "('We', 'PRON''), ('saw', 'VERB''), ('her', 'DET''), ('duck', 'NOUN''), ('.', 'PUNCT''), \n",
      "\n",
      "('I', 'PRON''), ('saw', 'VERB''), ('her', 'DET''), ('duck', 'NOUN''), ('swim', 'NOUN''), ('.', 'PUNCT''), \n",
      "\n",
      "('I', 'PRON''), ('saw', 'VERB''), ('her', 'DET''), ('duck', 'NOUN''), ('swim', 'NOUN''), ('quickly', 'ADV''), ('.', 'PUNCT''), \n",
      "\n"
     ]
    }
   ],
   "source": [
    "for sentence in sentences:\n",
    "    sent = nlp(sentence) \n",
    "    for word in sent: \n",
    "          print(\"('\" + str(word) + \"', '\" + str(word.pos_) + \"''),\", end =\" \") \n",
    "            \n",
    "    print()\n",
    "    print()"
   ]
  },
  {
   "cell_type": "markdown",
   "metadata": {},
   "source": [
    "# Results & Discussion"
   ]
  },
  {
   "cell_type": "markdown",
   "metadata": {},
   "source": [
    "1) In example #1, duck can be labeled as a noun or a verb, but only the noun is considered. A model could be trained to allow for consideration of the verb.\n",
    "\n",
    "2) In example #2, duck should intuitively be labeled as a noun and swim as a verb. However, this is not the case.\n",
    "\n",
    "3) In example #3, it is known that an adverb should modify a verb. However, some of the taggers have an adverb modifying a noun."
   ]
  },
  {
   "cell_type": "code",
   "execution_count": null,
   "metadata": {},
   "outputs": [],
   "source": [
    "# Has trouble with infinite markers like 'to'. Think about how this is typoically used in a sentence: to walk, to run, etc."
   ]
  }
 ],
 "metadata": {
  "kernelspec": {
   "display_name": "Python 3",
   "language": "python",
   "name": "python3"
  },
  "language_info": {
   "codemirror_mode": {
    "name": "ipython",
    "version": 3
   },
   "file_extension": ".py",
   "mimetype": "text/x-python",
   "name": "python",
   "nbconvert_exporter": "python",
   "pygments_lexer": "ipython3",
   "version": "3.6.6"
  }
 },
 "nbformat": 4,
 "nbformat_minor": 2
}
