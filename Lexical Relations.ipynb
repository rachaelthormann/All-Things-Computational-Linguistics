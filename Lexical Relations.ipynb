{
 "cells": [
  {
   "cell_type": "markdown",
   "metadata": {},
   "source": [
    "# Exploration of lexical relations using WordNet"
   ]
  },
  {
   "cell_type": "code",
   "execution_count": 5,
   "metadata": {},
   "outputs": [],
   "source": [
    "import nltk\n",
    "from nltk.corpus import wordnet as wn"
   ]
  },
  {
   "cell_type": "markdown",
   "metadata": {},
   "source": [
    "The function called synsets groups English words into sets of synonyms. \n",
    "\n",
    "Each name given below consists of the name, POS tag, and word sense. \n",
    "\n",
    "The words that it is able to process include noun, verb, adverb, and adjective."
   ]
  },
  {
   "cell_type": "code",
   "execution_count": 6,
   "metadata": {},
   "outputs": [],
   "source": [
    "syns = wn.synsets('program')"
   ]
  },
  {
   "cell_type": "code",
   "execution_count": 7,
   "metadata": {},
   "outputs": [
    {
     "name": "stdout",
     "output_type": "stream",
     "text": [
      "plan\n",
      "a series of steps to be carried out or goals to be accomplished\n",
      "\n",
      "program\n",
      "a system of projects or services intended to meet a public need\n",
      "\n",
      "broadcast\n",
      "a radio or television show\n",
      "\n",
      "platform\n",
      "a document stating the aims and principles of a political party\n",
      "\n",
      "program\n",
      "an announcement of the events that will occur as part of a theatrical or sporting event\n",
      "\n",
      "course_of_study\n",
      "an integrated course of academic studies\n",
      "\n",
      "program\n",
      "(computer science) a sequence of instructions that a computer can interpret and execute\n",
      "\n",
      "program\n",
      "a performance (or series of performances) at a public presentation\n",
      "\n",
      "program\n",
      "arrange a program of or for\n",
      "\n",
      "program\n",
      "write a computer program\n",
      "\n"
     ]
    }
   ],
   "source": [
    "for i in range(0,len(syns)):\n",
    "    \n",
    "    # print word\n",
    "    print(syns[i].lemmas()[0].name())\n",
    "    \n",
    "    # print definition\n",
    "    print(syns[i].definition() + \"\\n\")"
   ]
  },
  {
   "cell_type": "markdown",
   "metadata": {},
   "source": [
    "# Synonym / Antonym Sets"
   ]
  },
  {
   "cell_type": "markdown",
   "metadata": {},
   "source": [
    "Inspired by https://pythonprogramming.net/wordnet-nltk-tutorial/.\n",
    "\n",
    "It is interesting to note that not all words have antonyms."
   ]
  },
  {
   "cell_type": "code",
   "execution_count": 8,
   "metadata": {},
   "outputs": [
    {
     "name": "stdout",
     "output_type": "stream",
     "text": [
      "{'syllabus', 'course_of_study', 'political_program', 'political_platform', 'program', 'broadcast', 'computer_programme', 'plan', 'computer_program', 'programme', 'curriculum', 'platform'}\n",
      "\n",
      "set()\n"
     ]
    }
   ],
   "source": [
    "synonyms = []\n",
    "antonyms = []\n",
    "\n",
    "for syn in syns:\n",
    "    for l in syn.lemmas():\n",
    "        synonyms.append(l.name())\n",
    "        if l.antonyms():\n",
    "            antonyms.append(l.antonyms()[0].name())\n",
    "\n",
    "print(set(synonyms))\n",
    "print()\n",
    "print(set(antonyms))"
   ]
  },
  {
   "cell_type": "code",
   "execution_count": null,
   "metadata": {},
   "outputs": [],
   "source": []
  }
 ],
 "metadata": {
  "kernelspec": {
   "display_name": "Python 3",
   "language": "python",
   "name": "python3"
  },
  "language_info": {
   "codemirror_mode": {
    "name": "ipython",
    "version": 3
   },
   "file_extension": ".py",
   "mimetype": "text/x-python",
   "name": "python",
   "nbconvert_exporter": "python",
   "pygments_lexer": "ipython3",
   "version": "3.6.6"
  }
 },
 "nbformat": 4,
 "nbformat_minor": 2
}
