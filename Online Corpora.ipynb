{
 "cells": [
  {
   "cell_type": "markdown",
   "metadata": {},
   "source": [
    "# Playing with existing online corpora\n",
    "Inspired by Marcos Zampieri (Rochester Institute of Technology)."
   ]
  },
  {
   "cell_type": "code",
   "execution_count": 1,
   "metadata": {},
   "outputs": [
    {
     "name": "stdout",
     "output_type": "stream",
     "text": [
      "*** Introductory Examples for the NLTK Book ***\n",
      "Loading text1, ..., text9 and sent1, ..., sent9\n",
      "Type the name of the text or sentence to view it.\n",
      "Type: 'texts()' or 'sents()' to list the materials.\n",
      "text1: Moby Dick by Herman Melville 1851\n",
      "text2: Sense and Sensibility by Jane Austen 1811\n",
      "text3: The Book of Genesis\n",
      "text4: Inaugural Address Corpus\n",
      "text5: Chat Corpus\n",
      "text6: Monty Python and the Holy Grail\n",
      "text7: Wall Street Journal\n",
      "text8: Personals Corpus\n",
      "text9: The Man Who Was Thursday by G . K . Chesterton 1908\n"
     ]
    }
   ],
   "source": [
    "import nltk\n",
    "from nltk.book import *"
   ]
  },
  {
   "cell_type": "code",
   "execution_count": 2,
   "metadata": {},
   "outputs": [
    {
     "name": "stdout",
     "output_type": "stream",
     "text": [
      "Displaying 25 of 25 matches:\n",
      "alone maketh the signification of the word , you deliver that which is not true \n",
      "tly still , and resolved not to say a word till spoken to . Holding a light in o\n",
      "e prefix so significant and infidel a word , and yet do not thus entitle him , i\n",
      "enished with the meat and wine of the word , to the faithful man of God , this p\n",
      "t Jonah upon the dry land ;' when the word of the Lord came a second time ; and \n",
      ", and seeming to hear nothing but the word \" clam ,\" Mrs . Hussey hurried toward\n",
      "g to the kitchen door , I uttered the word \" cod \" with great emphasis , and res\n",
      "galliots , and what not ; but take my word for it , you never saw such a rare ol\n",
      "he landlady . But all we said , not a word could we drag out of him ; I almost f\n",
      "uld not move a peg , nor say a single word , nor even look at me , nor notice my\n",
      "kill yourself , Queequeg .\" But not a word did he reply . Despairing of him , th\n",
      "tions about their hereafters . In one word , Queequeg , said I , rather digressi\n",
      "ver strike a fish ?\" Without saying a word , Queequeg , in his wild sort of way \n",
      ", placing a nervous emphasis upon the word HE . \" Queequeg ,\" said I , \" let ' s\n",
      " growl ; growl and go -- that ' s the word with Captain Ahab . But nothing about\n",
      " to the prophecy . Didn ' t ye hear a word about them matters and something more\n",
      "g Queequeg ' s signing the articles , word was given at all the inns where the s\n",
      "o the cabin to speak another farewell word there ; again came on deck , and look\n",
      "ittle run from cabin to deck -- now a word below , and now a word with Starbuck \n",
      " deck -- now a word below , and now a word with Starbuck , the chief mate . But \n",
      "\" But we shall ere long see what that word \" careful \" precisely means when used\n",
      "ard dedication of that glance . Not a word he spoke ; nor did his officers say a\n",
      "Whale which the first syllable of the word literally expresses . In those times \n",
      "hould be marshalled among WHALES -- a word , which , in the popular sense , alwa\n",
      "t but plainly see that I have kept my word . But I now leave my cetological Syst\n"
     ]
    }
   ],
   "source": [
    "text1.concordance(\"word\")"
   ]
  },
  {
   "cell_type": "code",
   "execution_count": 3,
   "metadata": {},
   "outputs": [
    {
     "name": "stdout",
     "output_type": "stream",
     "text": [
      "whale time boat sea side man ship moment hand captain place pequod\n",
      "other head matter line gale door body world\n"
     ]
    }
   ],
   "source": [
    "text1.similar(\"word\")"
   ]
  },
  {
   "cell_type": "code",
   "execution_count": 28,
   "metadata": {},
   "outputs": [
    {
     "name": "stdout",
     "output_type": "stream",
     "text": [
      "260819\n",
      "141576\n",
      "44764\n",
      "145735\n",
      "45010\n",
      "16967\n",
      "100676\n",
      "4867\n",
      "69213\n"
     ]
    }
   ],
   "source": [
    "texts = [text1, text2, text3, text4, text5, text6, text7, text8, text9]\n",
    "\n",
    "# print the lengths of the texts\n",
    "for i in range (0,9):\n",
    "    print(len(texts[i]))"
   ]
  },
  {
   "cell_type": "code",
   "execution_count": 29,
   "metadata": {},
   "outputs": [
    {
     "data": {
      "text/plain": [
       "19317"
      ]
     },
     "execution_count": 29,
     "metadata": {},
     "output_type": "execute_result"
    }
   ],
   "source": [
    "MobyDick = text1\n",
    "len(set(MobyDick))"
   ]
  },
  {
   "cell_type": "code",
   "execution_count": 30,
   "metadata": {},
   "outputs": [],
   "source": [
    "def get_density(text):\n",
    "    \"\"\"Calulate the ratio of distinct words to the total text length.\"\"\"\n",
    "    return len(set(text)) / len(text)"
   ]
  },
  {
   "cell_type": "code",
   "execution_count": 42,
   "metadata": {},
   "outputs": [
    {
     "name": "stdout",
     "output_type": "stream",
     "text": [
      "0.07406285585022564\n",
      "0.04826383002768831\n",
      "0.06230453042623537\n",
      "0.06692970116993173\n",
      "0.13477005109975562\n",
      "0.1276595744680851\n",
      "0.12324685128531129\n",
      "0.22765564002465585\n",
      "0.0983485761345412\n"
     ]
    }
   ],
   "source": [
    "for i in range (0,9):\n",
    "    print(get_density(texts[i]))"
   ]
  }
 ],
 "metadata": {
  "kernelspec": {
   "display_name": "Python 3",
   "language": "python",
   "name": "python3"
  },
  "language_info": {
   "codemirror_mode": {
    "name": "ipython",
    "version": 3
   },
   "file_extension": ".py",
   "mimetype": "text/x-python",
   "name": "python",
   "nbconvert_exporter": "python",
   "pygments_lexer": "ipython3",
   "version": "3.6.6"
  }
 },
 "nbformat": 4,
 "nbformat_minor": 2
}
